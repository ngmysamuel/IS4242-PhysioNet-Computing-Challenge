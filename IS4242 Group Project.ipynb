{
 "cells": [
  {
   "cell_type": "markdown",
   "metadata": {},
   "source": [
    "<h1>IS4242 Group Project</h1>"
   ]
  },
  {
   "cell_type": "markdown",
   "metadata": {},
   "source": [
    "<b>Import necessary libraries</b>"
   ]
  },
  {
   "cell_type": "code",
   "execution_count": 1,
   "metadata": {},
   "outputs": [],
   "source": [
    "import pandas as pd\n",
    "import numpy as np\n",
    "import os"
   ]
  },
  {
   "cell_type": "markdown",
   "metadata": {},
   "source": [
    "'''\n",
    "Ensure that you are in the root folder of all the fold folders and target files\n",
    "read_text(fold_name):\n",
    "    fold_name: this is the name of the fold you want to read ALL patient files of. It will be read into a 2 dimensional\n",
    "    list. If you would like to retrieve just the first patient instead, you will need to change the line \n",
    "    \"txt_all.extend(txt[1:])\" to \"txt_all.append(txt[1:])\" and you will be to use \"read_text(fold1.txt)[0]\" to retrieve\n",
    "    the relevant patient's data\n",
    "read_ans(file_name):\n",
    "    file_name: this is the name of the file you want to read ALL targets of. It will be read into a 2 dimensional\n",
    "    list. To retrieve the first patient's target: read_ans(ans.csv)[0]\n",
    "put_single_into_dataframe(txt): This functions takes in 2 dimensional list ie the output of read_text(fold1.txt) \n",
    "put_multiple_into_dataframe(txt): Multiple is for using it with the output of read_text after you wanted to change it to append\n",
    "'''"
   ]
  },
  {
   "cell_type": "code",
   "execution_count": 2,
   "metadata": {},
   "outputs": [],
   "source": [
    "def read_text(fold_name):\n",
    "    txt_all = list()\n",
    "    for f in os.listdir(fold_name): # for each file in the directory\n",
    "        with open(os.path.join(fold_name, f), 'r') as fp: # open each file\n",
    "            txt = fp.readlines() # read inside the file\n",
    "        recordid = txt[1].rstrip('\\n').split(',')[-1] # get recordid\n",
    "        txt = [[int(recordid)] + t.rstrip('\\n').split(',') for t in txt] # preface each row with the recordid as all patients are 1 file\n",
    "        txt_all.extend(txt[1:]) # skip the parameter list\n",
    "    return txt_all\n",
    "\n",
    "def read_ans(file_name):\n",
    "    txt_all = list()\n",
    "    with open(file_name, 'r') as fp: # opens the csv file\n",
    "        txt = fp.readlines() \n",
    "    for i in range(1, len(txt)): # similar to above read_text\n",
    "        record_id, length_of_stay, hospital_death = txt[i].rstrip('\\n').split(',')\n",
    "        txt_all.append([record_id, length_of_stay, hospital_death])\n",
    "    return txt_all\n",
    "\n",
    "def put_multiple_into_dataframe(txt_all):\n",
    "    df = pd.DataFrame()\n",
    "    for i in txt_all:\n",
    "        df2 = pd.DataFrame(i, columns=['recordid', 'time', 'parameter', 'value'])\n",
    "        df = df.append(df2, ignore_index=True)\n",
    "    return df\n",
    "\n",
    "def put_single_into_dataframe(txt_all):\n",
    "    df = pd.DataFrame(txt_all, columns=['recordid', 'time', 'parameter', 'value'])\n",
    "    return df"
   ]
  },
  {
   "cell_type": "code",
   "execution_count": 3,
   "metadata": {},
   "outputs": [
    {
     "data": {
      "text/html": [
       "<div>\n",
       "<style scoped>\n",
       "    .dataframe tbody tr th:only-of-type {\n",
       "        vertical-align: middle;\n",
       "    }\n",
       "\n",
       "    .dataframe tbody tr th {\n",
       "        vertical-align: top;\n",
       "    }\n",
       "\n",
       "    .dataframe thead th {\n",
       "        text-align: right;\n",
       "    }\n",
       "</style>\n",
       "<table border=\"1\" class=\"dataframe\">\n",
       "  <thead>\n",
       "    <tr style=\"text-align: right;\">\n",
       "      <th></th>\n",
       "      <th>recordid</th>\n",
       "      <th>time</th>\n",
       "      <th>parameter</th>\n",
       "      <th>value</th>\n",
       "    </tr>\n",
       "  </thead>\n",
       "  <tbody>\n",
       "    <tr>\n",
       "      <td>0</td>\n",
       "      <td>132539</td>\n",
       "      <td>00:00</td>\n",
       "      <td>RecordID</td>\n",
       "      <td>132539</td>\n",
       "    </tr>\n",
       "    <tr>\n",
       "      <td>1</td>\n",
       "      <td>132539</td>\n",
       "      <td>00:00</td>\n",
       "      <td>Age</td>\n",
       "      <td>54</td>\n",
       "    </tr>\n",
       "    <tr>\n",
       "      <td>2</td>\n",
       "      <td>132539</td>\n",
       "      <td>00:00</td>\n",
       "      <td>Gender</td>\n",
       "      <td>0</td>\n",
       "    </tr>\n",
       "    <tr>\n",
       "      <td>3</td>\n",
       "      <td>132539</td>\n",
       "      <td>00:00</td>\n",
       "      <td>Height</td>\n",
       "      <td>-1</td>\n",
       "    </tr>\n",
       "    <tr>\n",
       "      <td>4</td>\n",
       "      <td>132539</td>\n",
       "      <td>00:00</td>\n",
       "      <td>ICUType</td>\n",
       "      <td>4</td>\n",
       "    </tr>\n",
       "  </tbody>\n",
       "</table>\n",
       "</div>"
      ],
      "text/plain": [
       "   recordid   time parameter   value\n",
       "0    132539  00:00  RecordID  132539\n",
       "1    132539  00:00       Age      54\n",
       "2    132539  00:00    Gender       0\n",
       "3    132539  00:00    Height      -1\n",
       "4    132539  00:00   ICUType       4"
      ]
     },
     "execution_count": 3,
     "metadata": {},
     "output_type": "execute_result"
    }
   ],
   "source": [
    "# Reading features\n",
    "fold1 = put_single_into_dataframe(read_text(\"./Project_Data/Fold1\"))\n",
    "fold2 = put_single_into_dataframe(read_text(\"./Project_Data/Fold2\"))\n",
    "fold3 = put_single_into_dataframe(read_text(\"./Project_Data/Fold3\"))\n",
    "fold4 = put_single_into_dataframe(read_text(\"./Project_Data/Fold4\"))\n",
    "df_feat = fold1.copy()\n",
    "df_feat = df_feat.append(fold2)\n",
    "df_feat = df_feat.append(fold3)\n",
    "df_feat = df_feat.append(fold4)\n",
    "df_feat.head()"
   ]
  },
  {
   "cell_type": "code",
   "execution_count": 4,
   "metadata": {},
   "outputs": [
    {
     "data": {
      "text/html": [
       "<div>\n",
       "<style scoped>\n",
       "    .dataframe tbody tr th:only-of-type {\n",
       "        vertical-align: middle;\n",
       "    }\n",
       "\n",
       "    .dataframe tbody tr th {\n",
       "        vertical-align: top;\n",
       "    }\n",
       "\n",
       "    .dataframe thead th {\n",
       "        text-align: right;\n",
       "    }\n",
       "</style>\n",
       "<table border=\"1\" class=\"dataframe\">\n",
       "  <thead>\n",
       "    <tr style=\"text-align: right;\">\n",
       "      <th></th>\n",
       "      <th>recordid</th>\n",
       "      <th>days_in_hospital</th>\n",
       "      <th>mortality</th>\n",
       "    </tr>\n",
       "  </thead>\n",
       "  <tbody>\n",
       "    <tr>\n",
       "      <td>0</td>\n",
       "      <td>132539</td>\n",
       "      <td>5</td>\n",
       "      <td>0</td>\n",
       "    </tr>\n",
       "    <tr>\n",
       "      <td>1</td>\n",
       "      <td>132540</td>\n",
       "      <td>8</td>\n",
       "      <td>0</td>\n",
       "    </tr>\n",
       "    <tr>\n",
       "      <td>2</td>\n",
       "      <td>132541</td>\n",
       "      <td>19</td>\n",
       "      <td>0</td>\n",
       "    </tr>\n",
       "    <tr>\n",
       "      <td>3</td>\n",
       "      <td>132543</td>\n",
       "      <td>9</td>\n",
       "      <td>0</td>\n",
       "    </tr>\n",
       "    <tr>\n",
       "      <td>4</td>\n",
       "      <td>132545</td>\n",
       "      <td>4</td>\n",
       "      <td>0</td>\n",
       "    </tr>\n",
       "  </tbody>\n",
       "</table>\n",
       "</div>"
      ],
      "text/plain": [
       "  recordid days_in_hospital mortality\n",
       "0   132539                5         0\n",
       "1   132540                8         0\n",
       "2   132541               19         0\n",
       "3   132543                9         0\n",
       "4   132545                4         0"
      ]
     },
     "execution_count": 4,
     "metadata": {},
     "output_type": "execute_result"
    }
   ],
   "source": [
    "# Reading Target\n",
    "df_target = pd.DataFrame(read_ans('./Project_Data/Fold1_Outcomes.csv'), columns=['recordid', 'days_in_hospital', 'mortality'])\n",
    "df_target.head()"
   ]
  },
  {
   "cell_type": "code",
   "execution_count": 5,
   "metadata": {},
   "outputs": [
    {
     "name": "stdout",
     "output_type": "stream",
     "text": [
      "Number of record ids: 4000\n",
      "HR             76.179333\n",
      "MAP            48.586667\n",
      "SysABP         48.550000\n",
      "DiasABP        48.522333\n",
      "Urine          45.639333\n",
      "Weight         43.055000\n",
      "NISysABP       32.777000\n",
      "NIDiasABP      32.736667\n",
      "NIMAP          32.290333\n",
      "Temp           28.801667\n",
      "GCS            20.521000\n",
      "RespRate       18.350333\n",
      "FiO2           10.796667\n",
      "MechVent       10.381333\n",
      "pH              8.118333\n",
      "PaCO2           7.764333\n",
      "PaO2            7.756000\n",
      "HCT             6.090333\n",
      "K               4.813333\n",
      "Platelets       4.701333\n",
      "Creatinine      4.661000\n",
      "BUN             4.638667\n",
      "HCO3            4.537667\n",
      "Mg              4.530000\n",
      "Na              4.523333\n",
      "Glucose         4.340333\n",
      "WBC             4.303333\n",
      "SaO2            2.728333\n",
      "Lactate         2.674667\n",
      "Age             1.333333\n",
      "ICUType         1.333333\n",
      "Gender          1.333333\n",
      "Height          1.333333\n",
      "RecordID        1.333333\n",
      "Bilirubin       1.063667\n",
      "AST             1.060667\n",
      "ALT             1.059000\n",
      "ALP             1.030667\n",
      "Albumin         0.785333\n",
      "TroponinT       0.708667\n",
      "TroponinI       0.145000\n",
      "Cholesterol     0.105000\n",
      "Name: parameter, dtype: float64\n"
     ]
    }
   ],
   "source": [
    "\n",
    "bin_feat = ['MechVent']\n",
    "num_feat = ['Albumin', 'ALP', 'ALT', 'AST', 'Bilirubin', 'BUN', 'Cholesterol',\n",
    "           'Creatinine', 'DiasABP', 'FiO2', 'GCS', 'Glucose', 'HCO3', 'HCT',\n",
    "           'HR', 'K', 'Lactate', 'Mg', 'MAP', 'NA', 'NIDiasABP', 'NIMAP',\n",
    "           'NISysABP', 'PaCO2', 'PaO2', 'pH', 'Platelets', 'RespRate', 'SaO2',\n",
    "           'SysABP', 'Temp', 'Tropl', 'TropT', 'Urine', 'WBC', 'Weight']\n",
    "\n",
    "print(\"Number of record ids:\", len(df_feat['recordid'].unique()))\n",
    "unique_count = df_feat['parameter'].value_counts()/3000\n",
    "print(unique_count)"
   ]
  },
  {
   "cell_type": "markdown",
   "metadata": {},
   "source": [
    "<h2>Analysis of Features</h2>\n",
    "<p>The data above shows the average number of times a variable observed per patient. Based on the data above and the feature description we classify the features into these categories:\n",
    "<ul>\n",
    "    <li>General Descriptors (static data) that are collected when the patient is admitted to the ICU. Weight is not included as weight are measured multiple times as a time series data. Each of the descriptors will be included as a feature into the model.</li>\n",
    "    <li>Rare features: measured on average less than one time per patient (less than 1.0). We use the <u>existence</u> of these measurements for each patient as a feature.</li>\n",
    "    <li>Features that measured often or more that one time per patient (more than 1.0). Calculate the hourly average of each measurements and put them into 48 columns. <i>Example, average HR on the first hour to HR_1, average HR on the second hour to HR_2, and so on.</i></li>\n",
    "</ul>\n",
    "</p>\n"
   ]
  },
  {
   "cell_type": "code",
   "execution_count": 6,
   "metadata": {
    "scrolled": true
   },
   "outputs": [
    {
     "name": "stdout",
     "output_type": "stream",
     "text": [
      "Rare features ['Albumin', 'TroponinT', 'TroponinI', 'Cholesterol']\n",
      "Normal features ['HR', 'MAP', 'SysABP', 'DiasABP', 'Urine', 'Weight', 'NISysABP', 'NIDiasABP', 'NIMAP', 'Temp', 'GCS', 'RespRate', 'FiO2', 'MechVent', 'pH', 'PaCO2', 'PaO2', 'HCT', 'K', 'Platelets', 'Creatinine', 'BUN', 'HCO3', 'Mg', 'Na', 'Glucose', 'WBC', 'SaO2', 'Lactate', 'Bilirubin', 'AST', 'ALT', 'ALP']\n"
     ]
    }
   ],
   "source": [
    "stat_feat = ['Age', 'Gender', 'Height', 'ICUType', 'RecordID'] #General Descriptors\n",
    "rare_feat = []\n",
    "nor_feat = []\n",
    "for index, value in unique_count.items():\n",
    "    if value < 1.0:\n",
    "        rare_feat.append(index)\n",
    "    elif index not in stat_feat:\n",
    "        nor_feat.append(index)\n",
    "print(\"Rare features\", rare_feat)\n",
    "print(\"Normal features\", nor_feat)"
   ]
  },
  {
   "cell_type": "code",
   "execution_count": null,
   "metadata": {},
   "outputs": [],
   "source": []
  }
 ],
 "metadata": {
  "kernelspec": {
   "display_name": "Python 3",
   "language": "python",
   "name": "python3"
  },
  "language_info": {
   "codemirror_mode": {
    "name": "ipython",
    "version": 3
   },
   "file_extension": ".py",
   "mimetype": "text/x-python",
   "name": "python",
   "nbconvert_exporter": "python",
   "pygments_lexer": "ipython3",
   "version": "3.7.4"
  }
 },
 "nbformat": 4,
 "nbformat_minor": 2
}
